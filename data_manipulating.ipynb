{
 "cells": [
  {
   "cell_type": "code",
   "execution_count": 70,
   "metadata": {},
   "outputs": [
    {
     "data": {
      "text/plain": [
       "'\\t20184483DateCreated\\tSept. 30, 2018, 8 p.m.DateCompleted\\tNoneDateRevised\\tOct. 29, 2018, 6:49 p.m.DatePublished\\tOct. 31, 2018, 3:59 p.m.ProjectTitle\\tInvestigators\\t<a href=\"mailto:megan.gow@health.nsw.gov.au\">Gow, Megan</a>PerformingOrganizations:\\t(Current): <a href=\"https://sydney.edu.au/medicine-health/schools/sydney-medical-school.html\">University of Sydney, Faculty of Medicine and Health, School of Medicine</a> / 61 (2) 8627 1444SourceAwardList:\\tNHMRC/1158876Supporting Agencies:\\tInitialYear:\\t2019InitialMonth:\\t01FinalYear:\\t2022FinalMonth:\\t12AwardType:\\tGrantTotalFundingAmount:\\t327192GrantId:\\t1158876Funding:\\tTotal Award Amount: $327,192ProjectStatus:\\tOngoingAbstract:\\tPregnancies complicated by obesity, high blood pressure, and diabetes are more common than ever, but effects of complications on the offspring are poorly described. This research program will a) determine how complicated pregnancies influence the health of the offspring by examining longitudinal data from three studies and b) determine whether lifestyle interventions for women who experience complicated pregnancies improve health outcomes of the offspring.Mesh Terms:\\t<ul> <li> Cardiovascular Diseases /*prevention & control</li> <li> Diabetes Mellitus /*prevention & control</li> <li> Female</li> <li> Humans</li> <li> Hypertension /*complications</li> <li> Infant, Newborn</li> <li> Life Style</li> <li> Longitudinal Studies</li> <li> Obesity /*prevention & control</li> <li> Outcome Assessment, Health Care</li> <li> Pregnancy</li> <li> Pregnancy Complications, Cardiovascular</li> <li> Pregnancy in Diabetics</li> <li> Pregnancy, High-Risk</li> <li> Risk</li></ul>Keywords:\\t\"cardiovascular health\", \" child development\", \" child health\", \" diabetes\", \" pregnancy complications\"Dat'"
      ]
     },
     "execution_count": 70,
     "metadata": {},
     "output_type": "execute_result"
    }
   ],
   "source": [
    "import re\n",
    "import collections\n",
    "\n",
    "with open('data.txt', 'r') as file:\n",
    "    data = file.read().replace(\"\\n\",\"\")\n",
    "    records = re.findall(r'ProjectID(.*?)aSource', data)\n",
    "\n",
    "records[0]\n"
   ]
  },
  {
   "cell_type": "code",
   "execution_count": 77,
   "metadata": {},
   "outputs": [],
   "source": [
    "# five broad topics\n",
    "keywords = [[\"age\",\"aging\"],\n",
    "            [\"female\",\"pregnanc\"],\n",
    "            [\"veteran\"],\n",
    "            [\"adolescen\",\"young\",\"child\"],\n",
    "            [\"ethn\",\"minority\",\"indian\",\"africa\",\"mexic\",\"hispani\"]]\n",
    "dictionary = {\"0\":0,\n",
    "             \"1\":0,\n",
    "             \"2\":0,\n",
    "             \"3\":0,\n",
    "             \"4\":0,\n",
    "             \"others\":0}"
   ]
  },
  {
   "cell_type": "code",
   "execution_count": 78,
   "metadata": {},
   "outputs": [
    {
     "name": "stdout",
     "output_type": "stream",
     "text": [
      "327192\n",
      "417192\n",
      "0\n",
      "499383\n",
      "1349953\n",
      "573901\n",
      "681142\n",
      "585437\n",
      "831046\n",
      "114033\n"
     ]
    }
   ],
   "source": [
    "def funding_from_record(record):\n",
    "    '''\n",
    "    Gets funding as int from the mess\n",
    "    '''\n",
    "    funding_raw = re.search(r'award amount:(.*?)projectstatus', record.lower())\n",
    "    # if there is funding\n",
    "    if funding_raw!= None:\n",
    "        funding_str = funding_raw.group()\n",
    "        # funding in the format of $xxx,xxx\n",
    "        funding = int(re.search(r'\\d+', funding_str.replace(\",\",\"\")).group())\n",
    "        return funding\n",
    "    # if no, return 0\n",
    "    return 0\n",
    "\n",
    "# Test\n",
    "for i in range(10):\n",
    "    print(funding_from_record(records[i]))"
   ]
  },
  {
   "cell_type": "code",
   "execution_count": 79,
   "metadata": {},
   "outputs": [],
   "source": [
    "for record in records:\n",
    "    record = record.lower()\n",
    "    meshterms = re.search(r'mesh terms:(.*?)dat', record).group()\n",
    "    funding = funding_from_record(record)\n",
    "    \n",
    "    for i in range(len(keywords)):\n",
    "        for k in keywords[i]:\n",
    "            if k in meshterms:\n",
    "                dictionary[str(i)] += funding\n",
    "                # for a keyword group, count the research for only once.\n",
    "                continue;"
   ]
  },
  {
   "cell_type": "code",
   "execution_count": 80,
   "metadata": {},
   "outputs": [],
   "source": [
    "# sort\n",
    "dictionary = sorted(dictionary.items(), key=lambda kv: kv[1], reverse = True)\n",
    "dictionary = collections.OrderedDict(dictionary)\n"
   ]
  },
  {
   "cell_type": "code",
   "execution_count": 81,
   "metadata": {},
   "outputs": [
    {
     "name": "stdout",
     "output_type": "stream",
     "text": [
      "Writing done.\n",
      "[['age', 'aging'], ['female', 'pregnanc'], ['veteran'], ['adolescen', 'young', 'child'], ['ethn', 'minority', 'indian', 'africa', 'mexic', 'hispani']]\n",
      "4 :  174389321\n",
      "0 :  74574577\n",
      "3 :  74495563\n",
      "1 :  32877899\n",
      "2 :  1430958\n",
      "others :  0\n"
     ]
    }
   ],
   "source": [
    "# write to file\n",
    "file = open(\"funding.txt\",\"a\") \n",
    "dic_copy = dictionary\n",
    "file.write(str(keywords))\n",
    "file.write(str(dictionary))\n",
    "print(\"Writing done.\")\n",
    "print(keywords)\n",
    "for key, value in dic_copy.items(): \n",
    "    print(\"% s : % d\"%(key, value))\n",
    "\n"
   ]
  },
  {
   "cell_type": "code",
   "execution_count": null,
   "metadata": {},
   "outputs": [],
   "source": []
  }
 ],
 "metadata": {
  "kernelspec": {
   "display_name": "Python 3",
   "language": "python",
   "name": "python3"
  },
  "language_info": {
   "codemirror_mode": {
    "name": "ipython",
    "version": 3
   },
   "file_extension": ".py",
   "mimetype": "text/x-python",
   "name": "python",
   "nbconvert_exporter": "python",
   "pygments_lexer": "ipython3",
   "version": "3.7.4"
  }
 },
 "nbformat": 4,
 "nbformat_minor": 2
}
